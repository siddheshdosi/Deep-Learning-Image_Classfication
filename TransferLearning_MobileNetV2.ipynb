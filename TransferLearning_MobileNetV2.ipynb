{
  "nbformat": 4,
  "nbformat_minor": 0,
  "metadata": {
    "colab": {
      "name": "skeletonCode.ipynb",
      "private_outputs": true,
      "provenance": [],
      "collapsed_sections": [],
      "include_colab_link": true
    },
    "kernelspec": {
      "display_name": "Python 3",
      "language": "python",
      "name": "python3"
    },
    "language_info": {
      "codemirror_mode": {
        "name": "ipython",
        "version": 3
      },
      "file_extension": ".py",
      "mimetype": "text/x-python",
      "name": "python",
      "nbconvert_exporter": "python",
      "pygments_lexer": "ipython3",
      "version": "3.8.5"
    }
  },
  "cells": [
    {
      "cell_type": "markdown",
      "metadata": {
        "id": "view-in-github",
        "colab_type": "text"
      },
      "source": [
        "<a href=\"https://colab.research.google.com/github/siddheshdosi/Deep-Learning-Image_Classfication/blob/master/TransferLearning_MobileNetV2.ipynb\" target=\"_parent\"><img src=\"https://colab.research.google.com/assets/colab-badge.svg\" alt=\"Open In Colab\"/></a>"
      ]
    },
    {
      "cell_type": "code",
      "metadata": {
        "id": "f3wXL7ChhHdE"
      },
      "source": [
        "#%tensorflow_version 1.x\n",
        "import warnings\n",
        "warnings.filterwarnings('ignore')\n",
        "\n",
        "from sklearn.model_selection import train_test_split\n",
        "\n",
        "import tensorflow as tf\n",
        "from tensorflow import keras\n",
        "from keras import Model\n",
        "from keras.applications.mobilenet_v2 import MobileNetV2\n",
        "from keras.datasets import cifar10\n",
        "from tensorflow.keras.utils import to_categorical\n",
        "\n",
        "import cv2\n",
        "\n",
        "import sys\n",
        "import numpy as np\n",
        "import csv\n",
        "import math\n",
        "\n",
        "import matplotlib.pyplot as plt"
      ],
      "execution_count": null,
      "outputs": []
    },
    {
      "cell_type": "markdown",
      "metadata": {
        "id": "ZMtaw6kVhHdJ"
      },
      "source": [
        "### Import Dataset"
      ]
    },
    {
      "cell_type": "code",
      "metadata": {
        "id": "v9RqMF3hhHdJ"
      },
      "source": [
        "# Class names for different classes\n",
        "class_names = ['airplane', 'automobile', 'bird', 'cat', 'deer','dog', 'frog', 'horse', 'ship', 'truck']\n",
        "\n",
        "# Load training data, labels; and testing data and their true labels\n",
        "(train_images, train_labels), (test_images, test_labels) = cifar10.load_data()\n",
        "print ('Training data seize:', train_images.shape, 'Test data size', test_images.shape)\n",
        "\n",
        "# Normalize pixel values between -1 and 1\n",
        "train_images = train_images / 127.5 - 1 \n",
        "test_images = test_images / 127.5 - 1 \n",
        "\n",
        "# one hot encoding \n",
        "ytrain = to_categorical(train_labels)\n",
        "ytest = to_categorical(test_labels)"
      ],
      "execution_count": null,
      "outputs": []
    },
    {
      "cell_type": "markdown",
      "metadata": {
        "id": "F82ZGbcehHdK"
      },
      "source": [
        "### Visualize dataset"
      ]
    },
    {
      "cell_type": "code",
      "metadata": {
        "id": "XqBtlR42hHdK"
      },
      "source": [
        "%matplotlib inline\n",
        "#Show first 25 training images below\n",
        "plt.figure(figsize=(10,10))\n",
        "for i in range(25):\n",
        "    plt.subplot(5,5,i+1)\n",
        "    plt.xticks([])\n",
        "    plt.yticks([])\n",
        "    plt.grid(False)\n",
        "    plt.imshow(train_images[i], cmap=plt.cm.binary)\n",
        "    plt.xlabel(class_names[train_labels[i][0]])"
      ],
      "execution_count": null,
      "outputs": []
    },
    {
      "cell_type": "markdown",
      "metadata": {
        "id": "LpLF6OTMhHdK"
      },
      "source": [
        "### Resize images for use with MobileNetV2"
      ]
    },
    {
      "cell_type": "code",
      "metadata": {
        "id": "qxmpUIAZhHdK"
      },
      "source": [
        "# Upsize all training and testing images to 96x96 for use with mobile net\n",
        "minSize = 96 #minimum size requried for mobileNetV2\n",
        "# You may use cv2 package. Look for function:\n",
        "#\"cv2.resize(<originalImage>, dsize=(minSize, minSize), interpolation=cv2.INTER_AREA)\"\n",
        "# resize train image: You can first initialize a numpy array resized_train_images to store all the resized training images\n",
        "resized_train_images = np.zeros((50000, minSize, minSize, 3), dtype=np.float32)\n",
        "# <Write code for resizing>\n",
        "for i in range(0,50000):\n",
        "    resized_train_images[i] = cv2.resize(train_images[i], dsize=(minSize, minSize), interpolation=cv2.INTER_AREA)\n",
        "# resize test image: You can first initialize a numpy array resized_test_images to store all the resized test images\n",
        "resized_test_images = np.zeros((10000, minSize, minSize, 3), dtype=np.float32)\n",
        "# <Write code for resizing>\n",
        "for i in range(0,10000):\n",
        "    resized_test_images[i] = cv2.resize(test_images[i], dsize=(minSize, minSize), interpolation=cv2.INTER_AREA)"
      ],
      "execution_count": null,
      "outputs": []
    },
    {
      "cell_type": "code",
      "metadata": {
        "id": "B4UAAy3jVsiH"
      },
      "source": [
        "del train_images\n",
        "del test_images\n",
        "del train_labels\n",
        "del test_labels"
      ],
      "execution_count": null,
      "outputs": []
    },
    {
      "cell_type": "code",
      "metadata": {
        "id": "e2RA8XmITzFk"
      },
      "source": [
        "#defining training and test sets\n",
        "#x_train,x_val,y_train,y_val=train_test_split(resized_train_images,ytrain,test_size=.3)"
      ],
      "execution_count": null,
      "outputs": []
    },
    {
      "cell_type": "markdown",
      "metadata": {
        "id": "oQd9E-HthHdL"
      },
      "source": [
        "### Download MobileNetV2 model\n",
        "\n"
      ]
    },
    {
      "cell_type": "code",
      "metadata": {
        "id": "FxhGHC6shHdL"
      },
      "source": [
        "#<Write code for downloading MobileNetV2>\n",
        "IMG_SHAPE=(minSize,minSize,3)\n",
        "base_model = MobileNetV2(input_shape=IMG_SHAPE,include_top=False,weights='imagenet')\n",
        "#base_model = MobileNetV2(include_top=False, weights='imagenet')"
      ],
      "execution_count": null,
      "outputs": []
    },
    {
      "cell_type": "markdown",
      "metadata": {
        "id": "oRr8E0yOhHdL"
      },
      "source": [
        "### Add custom layers at the end of downloaded model"
      ]
    },
    {
      "cell_type": "code",
      "metadata": {
        "id": "l5yRkggFhHdL"
      },
      "source": [
        "#<Write code for adding custom layers>\n",
        "from keras.layers import Dense,GlobalAveragePooling2D,Flatten,Conv2D,MaxPool2D\n",
        "from keras.layers import Conv2D\n",
        "from keras.layers import MaxPooling2D\n",
        "x=base_model.output\n",
        "x = Conv2D(32, (3, 3), activation='relu', padding='same', input_shape=(3, 3, 1280))(x)\n",
        "x = MaxPool2D(pool_size=2, strides=2)(x)\n",
        "x = Conv2D(32, (3, 3), activation='relu', padding='same')(x)\n",
        "#x = MaxPool2D(pool_size=2)(x)\n",
        "#x=GlobalAveragePooling2D()(x)\n",
        "x=Flatten()(x)\n",
        "#x=Dense(1024,activation='relu')(x) #we add dense layers so that the model can learn more complex functions and classify for better results.\n",
        "x=Dense(128,activation='relu')(x) #dense layer 2\n",
        "x=Dense(64,activation='relu')(x) #dense layer 3\n",
        "preds=Dense(10,activation='softmax')(x)\n",
        "model=Model(inputs=base_model.input,outputs=preds)"
      ],
      "execution_count": null,
      "outputs": []
    },
    {
      "cell_type": "code",
      "metadata": {
        "id": "rrBQIcZoTzGI"
      },
      "source": [
        "model.summary()"
      ],
      "execution_count": null,
      "outputs": []
    },
    {
      "cell_type": "markdown",
      "metadata": {
        "id": "ZFxL2Mk8hHdM"
      },
      "source": [
        "### Add loss function, compile and train the model, and check accuracy on test data"
      ]
    },
    {
      "cell_type": "code",
      "metadata": {
        "id": "62bq83kKhHdM",
        "jupyter": {
          "outputs_hidden": true
        }
      },
      "source": [
        "#<Write code>\n",
        "from keras.metrics import categorical_crossentropy\n",
        "from keras.layers.core import Dense, Activation\n",
        "#from keras.optimizers import Adam\n",
        "\n",
        "from keras.callbacks import Callback\n",
        "\n",
        "class stopAtLossValue(Callback):\n",
        "\n",
        "        def on_batch_end(self, batch, logs={}):\n",
        "            THR = 0.001 #Assign THR with the value at which you want to stop training.\n",
        "            if logs.get('loss') <= THR:\n",
        "                 self.model.stop_training = True\n",
        "\n",
        "callbacks = stopAtLossValue()\n",
        "\n",
        "model.compile(optimizer='adam',loss='categorical_crossentropy',metrics=['accuracy'])\n",
        "\n",
        "history = model.fit(resized_train_images,ytrain,batch_size=128,\n",
        "                   epochs=6,callbacks=[callbacks])"
      ],
      "execution_count": null,
      "outputs": []
    },
    {
      "cell_type": "markdown",
      "metadata": {
        "id": "Z8HuDLIIhHdM"
      },
      "source": [
        "### Extra code for producing different plots"
      ]
    },
    {
      "cell_type": "code",
      "metadata": {
        "id": "grsZI6rthHdM",
        "jupyter": {
          "outputs_hidden": true
        }
      },
      "source": [
        "plt.plot(history.history['accuracy'])\n",
        "#plt.plot(history.history['val_accuracy'])\n",
        "plt.title('model accuracy')\n",
        "plt.ylabel('accuracy')\n",
        "plt.xlabel('epoch')\n",
        "#plt.legend(['train', 'validation'], loc='upper left')\n",
        "plt.show()"
      ],
      "execution_count": null,
      "outputs": []
    },
    {
      "cell_type": "markdown",
      "metadata": {
        "id": "qjIeKCzCTzGp"
      },
      "source": [
        "**1) Write how you extended the MobileNetV2 model (how many layers you added, what type of layers, how many nodes per layer, their activation function etc).**"
      ]
    },
    {
      "cell_type": "code",
      "metadata": {
        "id": "lVoo2k6oTzGs"
      },
      "source": [
        ""
      ],
      "execution_count": null,
      "outputs": []
    },
    {
      "cell_type": "markdown",
      "metadata": {
        "id": "M-Ioa_UjTzGy"
      },
      "source": [
        "**2) Plot the loss function value with respect to the epoch number on the training data. How did you decide when to terminate training? How did you decide the mini-batch size for training?**"
      ]
    },
    {
      "cell_type": "code",
      "metadata": {
        "id": "zEXwwJgDTzHr"
      },
      "source": [
        "# summarize history for loss\n",
        "plt.plot(history.history['loss'])\n",
        "#plt.plot(history.history['val_loss'])\n",
        "plt.title('model loss')\n",
        "plt.ylabel('loss')\n",
        "plt.xlabel('epoch')\n",
        "#plt.legend(['train', 'validation'], loc='upper left')\n",
        "plt.show()"
      ],
      "execution_count": null,
      "outputs": []
    },
    {
      "cell_type": "markdown",
      "metadata": {
        "id": "tixQR1XGTzIG"
      },
      "source": [
        "**3) Show accuracy of the trained classifier over the entire testing dataset.**"
      ]
    },
    {
      "cell_type": "code",
      "metadata": {
        "id": "2U3biLWtTzIH"
      },
      "source": [
        "from sklearn.metrics import accuracy_score\n",
        "ypred = model.predict(resized_test_images)\n",
        "\n",
        "predict = [np.argmax(p) for p in ypred]\n",
        "actual = [np.argmax(p) for p in ytest] \n",
        "print('Test data accuracy : ',accuracy_score(actual,predict))"
      ],
      "execution_count": null,
      "outputs": []
    },
    {
      "cell_type": "code",
      "metadata": {
        "id": "p_26m8WVTzII"
      },
      "source": [
        ""
      ],
      "execution_count": null,
      "outputs": []
    }
  ]
}