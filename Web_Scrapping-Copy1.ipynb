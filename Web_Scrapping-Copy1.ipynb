{
 "cells": [
  {
   "cell_type": "code",
   "execution_count": 42,
   "metadata": {},
   "outputs": [],
   "source": [
    "import re\n",
    "import requests\n",
    "from bs4 import BeautifulSoup\n",
    "from random import shuffle\n",
    "from selenium import webdriver\n",
    "from selenium.webdriver.support.ui import WebDriverWait\n",
    "site = 'https://www.koovs.com/jarvis-service/v1/product/listing/complete?href=https%3A%2F%2Fwww.koovs.com%2Fwomen%2Ftops%2F&page-size=36&sort=relevance&page=2'\n",
    "#site ='https://www.forever21.com/us/shop/catalog/category/f21/sale_tops'\n",
    "#site='https://www.bewakoof.com/top-wear-for-women'\n",
    "#site = 'https://www.pinterest.com/gingerleela/ladies-tops/'\n",
    "#site = 'https://www.koovs.com/women/tops/'\n",
    "#payload = {\"count\":1000}\n",
    "#response = requests.get(site,data=payload)\n",
    "response = requests.get(site)\n",
    "\n",
    "# while True:\n",
    "#     try:\n",
    "#         # Action scroll down\n",
    "#         driver.execute_script(\"window.scrollTo(0, document.body.scrollHeight);\")\n",
    "#         break\n",
    "#     except: \n",
    "#         pass\n",
    "\n",
    "soup = BeautifulSoup(response.text, 'html.parser')\n",
    "img_tags = soup.find_all('img')\n",
    "\n",
    "urls = []\n",
    "for im in img_tags:\n",
    "    #print(im)\n",
    "    try:\n",
    "        #print(im['src'])\n",
    "        urls.append(im['src'])\n",
    "    except:\n",
    "        continue\n",
    "#urls = [img['src'] for img in img_tags]\n",
    "\n",
    "\n",
    "for url in urls:\n",
    "    filename = re.search(r'/([\\w_-]+[.](jpg|gif|png|JPG|GIF|PNG))$', url)\n",
    "    if not filename:\n",
    "        #print(\"Regex didn't match with the url: {}\".format(url))\n",
    "        continue\n",
    "    filename = './LB_Images_2/'+filename.group(1)\n",
    "    print(filename)\n",
    "    with open(filename, 'wb') as f:\n",
    "        if 'http' not in url:\n",
    "            # sometimes an image source can be relative \n",
    "            # if it is provide the base url which also happens \n",
    "            # to be the site variable atm. \n",
    "            url = '{}{}'.format(site, url)\n",
    "        response = requests.get(url)\n",
    "        f.write(response.content)\n",
    "    \n"
   ]
  },
  {
   "cell_type": "code",
   "execution_count": 48,
   "metadata": {},
   "outputs": [
    {
     "data": {
      "text/plain": [
       "str"
      ]
     },
     "execution_count": 48,
     "metadata": {},
     "output_type": "execute_result"
    }
   ],
   "source": [
    "type(response.text)"
   ]
  },
  {
   "cell_type": "code",
   "execution_count": 58,
   "metadata": {},
   "outputs": [
    {
     "name": "stdout",
     "output_type": "stream",
     "text": [
      "https://product.koovs.com/81900_4191da0039e3a62b747ed76b0988906c.jpg\n",
      "https://product.koovs.com/150030_48313e21f725476ab5f98cabf49cab6e_image1_super_zoom.jpg\n",
      "https://product.koovs.com/148607_40f43d33b7514f5eb4374884bbfb3910_image1_super_zoom.jpg\n",
      "https://product.koovs.com/131888_8c2e6511f39a2c8d885c3b00ce773ec5.jpg\n",
      "https://product.koovs.com/147327_6180e9a00a524e678b0c27156c72e880_image1_super_zoom.jpg\n",
      "https://product.koovs.com/131099_9eb640ced9dd60f3122b27cf2b18bfd9.jpg\n",
      "https://product.koovs.com/128625_9fd665292dd7e92241d8a8d81457f16b.jpg\n",
      "https://product.koovs.com/126968_7b81686e1659ffa114e5058d128c78c9.jpg\n",
      "https://product.koovs.com/124856_1c97e8692eba4b6520abb5a710691437.jpg\n",
      "https://product.koovs.com/124158_aeae198bd7d4a91ba9ae86af6d866582.jpg\n",
      "https://product.koovs.com/123327_977d9d1aa11fb40de35186404a25bb75.jpg\n",
      "https://product.koovs.com/132926_5d3e0092c7814acebb40ba7eb4b7913c_image1_super_zoom.jpg\n",
      "https://product.koovs.com/115989_341c904c296f06f72928767b7a7a43ea.jpg\n",
      "https://product.koovs.com/86235_7adea9952c4b7b478c6f798a6ad15c38.jpg\n",
      "https://product.koovs.com/148857_6ce45008b70f4eceb07f6282751fc262_image1_super_zoom.jpg\n",
      "https://product.koovs.com/126958_78a23ebd4a48dd72bb3874d8ac7a73e5.jpg\n",
      "https://product.koovs.com/124239_82d54567ad984f4597639b21403733a1.jpg\n",
      "https://product.koovs.com/124091_f2f0ecaae411743f19b2067dd0891c04.jpg\n",
      "https://product.koovs.com/121976_f0b81b30396e2be5abaa2cffd348edea.jpg\n",
      "https://product.koovs.com/116480_77b87b15ed4901d6ca3199997498e544.jpg\n",
      "https://product.koovs.com/111457_01318bde13aa5406287b224d267bc873.jpg\n",
      "https://product.koovs.com/102773_b3c2c69fadf980f9d128c7bb8300bf6a.jpg\n",
      "https://product.koovs.com/99060_ee297698939de424a36699dbaf6ad8c6.jpg\n",
      "https://product.koovs.com/88131_26f8b479fa7d6ac705f5190b1a69a71e.jpg\n",
      "https://product.koovs.com/86230_7224af182ab15e6851e25bcf78a4e018.jpg\n",
      "https://product.koovs.com/52119_6edce7800ce448af8ececc184db1b3ef_image1_super_zoom.jpg\n",
      "https://product.koovs.com/148852_492da8ffcbdf4b1eb56a95a5eb5133ac_image1_super_zoom.jpg\n",
      "https://product.koovs.com/148619_bcfebaf6b45c486da411faeaff812cb8_image1_super_zoom.jpg\n",
      "https://product.koovs.com/129825_6820ac1ae0d72e1c061f69f4a67f85f6.jpg\n",
      "https://product.koovs.com/128635_8ecb5372bda4c294fc7fa61955a5cd94.jpg\n",
      "https://product.koovs.com/125485_096db710ba29e1d3ac7de58c01ca3af5.jpg\n",
      "https://product.koovs.com/124240_dc041ad1bc104ae0b446f14018b49854.jpg\n",
      "https://product.koovs.com/124178_6978e7ce9e8f16bd39f7cd7a61a3b320.jpg\n",
      "https://product.koovs.com/124164_4875d7941ae2d1526a314f657840451b.jpg\n",
      "https://product.koovs.com/105507_f2a02a08b9e85bff452e9da058461727.jpg\n",
      "https://product.koovs.com/103346_027057ffe7c0a799914305adfb7f49e3.jpg\n"
     ]
    }
   ],
   "source": [
    "import json\n",
    "\n",
    "d = json.loads(response.text)\n",
    "\n",
    "\n",
    "with open(filename, 'wb') as f:\n",
    "    for i in range(0,len(d['data'][0]['data'])):\n",
    "        print(d['data'][0]['data'][i]['imageSmallUrl'])\n",
    "        url=d['data'][0]['data'][i]['imageSmallUrl']\n",
    "        response = requests.get(url)\n",
    "        f.write(response.content)"
   ]
  },
  {
   "cell_type": "code",
   "execution_count": 59,
   "metadata": {},
   "outputs": [
    {
     "data": {
      "text/plain": [
       "'./LB_Images_2/emailpopup.jpg'"
      ]
     },
     "execution_count": 59,
     "metadata": {},
     "output_type": "execute_result"
    }
   ],
   "source": [
    "filename"
   ]
  }
 ],
 "metadata": {
  "kernelspec": {
   "display_name": "Python 3",
   "language": "python",
   "name": "python3"
  },
  "language_info": {
   "codemirror_mode": {
    "name": "ipython",
    "version": 3
   },
   "file_extension": ".py",
   "mimetype": "text/x-python",
   "name": "python",
   "nbconvert_exporter": "python",
   "pygments_lexer": "ipython3",
   "version": "3.7.3"
  }
 },
 "nbformat": 4,
 "nbformat_minor": 2
}
